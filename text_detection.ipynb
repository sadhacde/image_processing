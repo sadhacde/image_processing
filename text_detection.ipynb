{
 "cells": [
  {
   "cell_type": "code",
   "execution_count": 1,
   "id": "628fc267-45f4-45c6-97ca-17f4f7557f70",
   "metadata": {},
   "outputs": [],
   "source": [
    "import pandas as pd\n",
    "import numpy as np\n",
    "\n",
    "from glob import glob\n",
    "from tqdm.notebook import tqdm\n",
    "\n",
    "import matplotlib.pyplot as plt\n",
    "from PIL import Image"
   ]
  },
  {
   "cell_type": "code",
   "execution_count": 2,
   "id": "fe993a24-b311-4201-91cb-2fd554fb2789",
   "metadata": {},
   "outputs": [],
   "source": [
    "annot = pd.read_parquet('annot.parquet')"
   ]
  },
  {
   "cell_type": "code",
   "execution_count": 5,
   "id": "92ddcb32-9df2-4ab7-9fbe-ba37694e0e6a",
   "metadata": {},
   "outputs": [],
   "source": [
    "img = pd.read_parquet('img.parquet')\n",
    "imgs = glob('images/*')"
   ]
  },
  {
   "cell_type": "code",
   "execution_count": 6,
   "id": "adf7e146-8be8-4f12-867f-878fe6fa1712",
   "metadata": {},
   "outputs": [
    {
     "data": {
      "text/html": [
       "<div>\n",
       "<style scoped>\n",
       "    .dataframe tbody tr th:only-of-type {\n",
       "        vertical-align: middle;\n",
       "    }\n",
       "\n",
       "    .dataframe tbody tr th {\n",
       "        vertical-align: top;\n",
       "    }\n",
       "\n",
       "    .dataframe thead th {\n",
       "        text-align: right;\n",
       "    }\n",
       "</style>\n",
       "<table border=\"1\" class=\"dataframe\">\n",
       "  <thead>\n",
       "    <tr style=\"text-align: right;\">\n",
       "      <th></th>\n",
       "      <th>id</th>\n",
       "      <th>width</th>\n",
       "      <th>height</th>\n",
       "      <th>set</th>\n",
       "      <th>file_name</th>\n",
       "    </tr>\n",
       "  </thead>\n",
       "  <tbody>\n",
       "    <tr>\n",
       "      <th>0</th>\n",
       "      <td>a4ea732cd3d5948a</td>\n",
       "      <td>840</td>\n",
       "      <td>1024</td>\n",
       "      <td>train</td>\n",
       "      <td>train/a4ea732cd3d5948a.jpg</td>\n",
       "    </tr>\n",
       "    <tr>\n",
       "      <th>1</th>\n",
       "      <td>4bf43a7b2a898044</td>\n",
       "      <td>1024</td>\n",
       "      <td>683</td>\n",
       "      <td>train</td>\n",
       "      <td>train/4bf43a7b2a898044.jpg</td>\n",
       "    </tr>\n",
       "    <tr>\n",
       "      <th>2</th>\n",
       "      <td>1b55b309b0f50d02</td>\n",
       "      <td>1024</td>\n",
       "      <td>683</td>\n",
       "      <td>train</td>\n",
       "      <td>train/1b55b309b0f50d02.jpg</td>\n",
       "    </tr>\n",
       "    <tr>\n",
       "      <th>3</th>\n",
       "      <td>00c359f294f7dcd9</td>\n",
       "      <td>1024</td>\n",
       "      <td>680</td>\n",
       "      <td>train</td>\n",
       "      <td>train/00c359f294f7dcd9.jpg</td>\n",
       "    </tr>\n",
       "    <tr>\n",
       "      <th>4</th>\n",
       "      <td>04b5a37f762b0f51</td>\n",
       "      <td>768</td>\n",
       "      <td>1024</td>\n",
       "      <td>train</td>\n",
       "      <td>train/04b5a37f762b0f51.jpg</td>\n",
       "    </tr>\n",
       "  </tbody>\n",
       "</table>\n",
       "</div>"
      ],
      "text/plain": [
       "                 id  width  height    set                   file_name\n",
       "0  a4ea732cd3d5948a    840    1024  train  train/a4ea732cd3d5948a.jpg\n",
       "1  4bf43a7b2a898044   1024     683  train  train/4bf43a7b2a898044.jpg\n",
       "2  1b55b309b0f50d02   1024     683  train  train/1b55b309b0f50d02.jpg\n",
       "3  00c359f294f7dcd9   1024     680  train  train/00c359f294f7dcd9.jpg\n",
       "4  04b5a37f762b0f51    768    1024  train  train/04b5a37f762b0f51.jpg"
      ]
     },
     "execution_count": 6,
     "metadata": {},
     "output_type": "execute_result"
    }
   ],
   "source": [
    "img.head()"
   ]
  },
  {
   "cell_type": "code",
   "execution_count": null,
   "id": "ed7a0458-7016-4cbc-854e-dca4025e082b",
   "metadata": {},
   "outputs": [],
   "source": [
    "fig, ax = plt.subplots(figsize=(5, 5))\n",
    "ax.imshow(plt.imread(imgs[0]))\n",
    "ax.axis('off')\n",
    "plt.show()"
   ]
  },
  {
   "cell_type": "code",
   "execution_count": null,
   "id": "738e118c-1937-4ec2-8bf1-ecc38dba43bb",
   "metadata": {},
   "outputs": [],
   "source": [
    "image_id = imgs[0].split('/')[-1].split('.')[0]\n",
    "annot.query('image_id == @image_id')"
   ]
  },
  {
   "cell_type": "code",
   "execution_count": null,
   "id": "24d0f8ce-3084-46a6-8ad4-dba9e2c243f7",
   "metadata": {},
   "outputs": [],
   "source": [
    "fig, axs = plt.subplots(5, 5, figsize=(20, 20))\n",
    "axs = axs.flatten()\n",
    "for i in range(25):\n",
    "    axs[i].imshow(plt.imread(img_fns[i]))\n",
    "    axs[i].axis('off')\n",
    "    image_id = img_fns[i].split('/')[-1].rstrip('.jpg')\n",
    "    n_annot = len(annot.query('image_id == @image_id'))\n",
    "    axs[i].set_title(f'{image_id} - {n_annot}')\n",
    "plt.show()"
   ]
  },
  {
   "cell_type": "code",
   "execution_count": null,
   "id": "afba09e0-1fff-4df2-9365-77de293200eb",
   "metadata": {},
   "outputs": [],
   "source": [
    "import pytesseract\n",
    "\n",
    "print(pytesseract.image_to_string(img_fns[11], lang='eng'))"
   ]
  }
 ],
 "metadata": {
  "kernelspec": {
   "display_name": "Python 3 (ipykernel)",
   "language": "python",
   "name": "python3"
  },
  "language_info": {
   "codemirror_mode": {
    "name": "ipython",
    "version": 3
   },
   "file_extension": ".py",
   "mimetype": "text/x-python",
   "name": "python",
   "nbconvert_exporter": "python",
   "pygments_lexer": "ipython3",
   "version": "3.11.7"
  }
 },
 "nbformat": 4,
 "nbformat_minor": 5
}
